{
 "cells": [
  {
   "cell_type": "markdown",
   "metadata": {},
   "source": [
    "## Distributions"
   ]
  },
  {
   "cell_type": "markdown",
   "metadata": {},
   "source": [
    "A wide range of probability distributions are available in <tt>scipy.stats</tt>. They all have a generic structure <tt>scipy.stats.&lt;distribution&gt;</tt>, where the distribution name is best looked up in the scipy.stats documentation.\n",
    "\n",
    "Each distribution can be initialised like\n",
    "\n",
    "  <tt>dist = scipy.stats.&lt;distribution&gt;(&lt;parameters&gt;)</tt>\n",
    "\n",
    "so for a normal distribution with mean 0.4 and width 1.5 we would write\n",
    "  <tt>n = scipy.stats.norm(0.4, 1.5) </tt>\n",
    "\n",
    "The <tt>dist</tt> variable can then be used to get values from the probability distribution function (PDF) using the <tt>pdf</tt> function or draw samples from the PDF using the <tt>rvs</tt> function. Note that for <em>discrete</em> distributions (e.g. Poisson, Binominal, Multinominal) the correct quantity is the probability mass function (PMF) and the routine is called <tt>pmf</tt>. The cumulative distribution function (CDF) can be accessed using the <tt>cdf</tt> function and a wide range of other functionalities are available. Here I will just show the basic usage of a few of these distributions"
   ]
  },
  {
   "cell_type": "code",
   "execution_count": 24,
   "metadata": {
    "ExecuteTime": {
     "end_time": "2019-03-11T12:37:48.300762Z",
     "start_time": "2019-03-11T12:37:48.296641Z"
    }
   },
   "outputs": [],
   "source": [
    "import numpy as np\n",
    "import scipy.stats as ss\n",
    "import matplotlib.pyplot as plt\n",
    "%matplotlib inline"
   ]
  },
  {
   "cell_type": "code",
   "execution_count": 25,
   "metadata": {
    "ExecuteTime": {
     "end_time": "2019-03-11T12:37:48.305788Z",
     "start_time": "2019-03-11T12:37:48.303204Z"
    }
   },
   "outputs": [],
   "source": [
    "# This modifies the frozen distributions so that I can get its name for plotting purposes.\n",
    "ss.distributions.rv_frozen.name = property(lambda self: self.dist.name)"
   ]
  },
  {
   "cell_type": "code",
   "execution_count": 26,
   "metadata": {
    "ExecuteTime": {
     "end_time": "2019-03-11T12:37:48.314937Z",
     "start_time": "2019-03-11T12:37:48.307519Z"
    }
   },
   "outputs": [],
   "source": [
    "def plot_distribution(d, xmin, xmax):\n",
    "    \"\"\"\n",
    "    Create a simple plot of the PDF and CDF of a distribution.\n",
    "    I will use this frequently below. \n",
    "    \"\"\"\n",
    "    x = np.linspace(xmin, xmax, num=100)\n",
    "    \n",
    "    # I do not know whether the distribution is discrete or not. A simple way to check\n",
    "    # is to use a try except clause (this is not fool-proof though since if d is not a \n",
    "    # distribution it will fail.)\n",
    "    try:\n",
    "        y_pdf = d.pdf(x)\n",
    "        discrete = False\n",
    "    except:\n",
    "        # Ok, a discrete sample - then we want x to contain integers\n",
    "        x = np.arange(xmin, xmax+1)\n",
    "        y_pdf = d.pmf(x)\n",
    "        discrete = True\n",
    "        \n",
    "    y_cdf = d.cdf(x)\n",
    "\n",
    "    f, ax = plt.subplots(1, 2)\n",
    "    plt.tight_layout(w_pad=1.5, h_pad=1.0)\n",
    "    \n",
    "    if discrete:\n",
    "        ax[0].plot(x, y_pdf, 'ro-')\n",
    "    else:\n",
    "        ax[0].plot(x, y_pdf, 'r-')\n",
    "    ax[0].set_title(d.name+' - PDF')\n",
    "    ax[0].set_ylim(0, 1.1*np.nanmax(y_pdf))\n",
    "    ax[0].set_xlabel('x')\n",
    "    ax[0].set_ylabel('p(x)')\n",
    "    ax[1].plot(x, y_cdf, 'b-')\n",
    "    ax[1].set_title(d.name+' - CDF')\n",
    "    ax[1].set_xlabel('x')\n",
    "    ax[1].set_ylabel('p(>x)')"
   ]
  },
  {
   "cell_type": "markdown",
   "metadata": {},
   "source": [
    "## The Uniform distribution\n",
    "\n",
    "This is the simplest distribution around. It is simply constant in a range.\n",
    "\n",
    "<b>Parameters</b>: Left side of range and Width of range.\n",
    "\n",
    "So to set up a uniform distribution between 1 and 5, we can do:"
   ]
  },
  {
   "cell_type": "code",
   "execution_count": 27,
   "metadata": {
    "ExecuteTime": {
     "end_time": "2019-03-11T12:37:48.320806Z",
     "start_time": "2019-03-11T12:37:48.317296Z"
    }
   },
   "outputs": [],
   "source": [
    "left = 1.0\n",
    "width = 4.0\n",
    "u = ss.uniform(left, width)"
   ]
  },
  {
   "cell_type": "markdown",
   "metadata": {},
   "source": [
    "Next, I would like to plot the distribution. To do this I first create a variable x\n",
    "for the locations I want to have an estimate of the PDF and the CDF. Note that I plot the PDF on the left and the CDF on the right. Note that the edges on the PDF are not perfectly vertical - due to the finite sampling on the x-axis."
   ]
  },
  {
   "cell_type": "code",
   "execution_count": 28,
   "metadata": {
    "ExecuteTime": {
     "end_time": "2019-03-11T12:37:48.590512Z",
     "start_time": "2019-03-11T12:37:48.323028Z"
    }
   },
   "outputs": [
    {
     "data": {
      "image/png": "[encoded data removed]",
      "text/plain": [
       "<Figure size 432x288 with 2 Axes>"
      ]
     },
     "metadata": {
      "needs_background": "light"
     },
     "output_type": "display_data"
    }
   ],
   "source": [
    "plot_distribution(u, 0, 6)"
   ]
  },
  {
   "cell_type": "markdown",
   "metadata": {},
   "source": [
    "Next, let us draw 100 random variables from the distribution. "
   ]
  },
  {
   "cell_type": "code",
   "execution_count": 29,
   "metadata": {
    "ExecuteTime": {
     "end_time": "2019-03-11T12:37:48.739420Z",
     "start_time": "2019-03-11T12:37:48.592338Z"
    }
   },
   "outputs": [
    {
     "name": "stdout",
     "output_type": "stream",
     "text": [
      "Sample mean=2.970\n"
     ]
    },
    {
     "data": {
      "image/png": "[encoded data removed]",
      "text/plain": [
       "<Figure size 432x288 with 1 Axes>"
      ]
     },
     "metadata": {
      "needs_background": "light"
     },
     "output_type": "display_data"
    }
   ],
   "source": [
    "r_x = u.rvs(100)\n",
    "plt.plot(r_x, 'o')\n",
    "print(\"Sample mean={0:.3f}\".format(np.mean(r_x)))"
   ]
  },
  {
   "cell_type": "markdown",
   "metadata": {},
   "source": [
    "The uniform distribution is particularly useful if your variable has a particularly weird distribution that is not supported by a standard distribution. If a value $y$ can be written as $\\Phi(x)$, then the distribution of $y$ is given by $p_Y(y) = p_X(\\Phi^{-1}(y)) \\left|\\frac{d\\Phi^{-1}(y)}{dy}\\right|$\n",
    "\n",
    "Here I have added a subscript $X$ and $Y$ to highlight which distribution we are talking about. To take a specific example, let us assume that $y = \\sqrt{x}$ with $x$ taken from the uniform distribution above we have $x = \\Phi^{-1}(y) = y^2$ and the derivative is then $2y = 2\\sqrt{x}$ so we get"
   ]
  },
  {
   "cell_type": "code",
   "execution_count": 30,
   "metadata": {
    "ExecuteTime": {
     "end_time": "2019-03-11T12:37:48.881452Z",
     "start_time": "2019-03-11T12:37:48.741352Z"
    }
   },
   "outputs": [
    {
     "data": {
      "text/plain": [
       "[<matplotlib.lines.Line2D at 0x1a161700f0>]"
      ]
     },
     "execution_count": 30,
     "metadata": {},
     "output_type": "execute_result"
    },
    {
     "data": {
      "image/png": "[encoded data removed]",
      "text/plain": [
       "<Figure size 432x288 with 1 Axes>"
      ]
     },
     "metadata": {
      "needs_background": "light"
     },
     "output_type": "display_data"
    }
   ],
   "source": [
    "\n",
    "y_sqrt = 2*np.sqrt(r_x)*u.pdf(r_x)\n",
    "plt.plot(np.sqrt(r_x), y_sqrt)"
   ]
  },
  {
   "cell_type": "markdown",
   "metadata": {},
   "source": [
    "There are quite a few other functions you might find useful in this package. Here are the functions to calculate the mean, the 0.1 quantile and the standard deviation."
   ]
  },
  {
   "cell_type": "code",
   "execution_count": 31,
   "metadata": {
    "ExecuteTime": {
     "end_time": "2019-03-11T12:37:48.887911Z",
     "start_time": "2019-03-11T12:37:48.883203Z"
    }
   },
   "outputs": [
    {
     "data": {
      "text/plain": [
       "(3.0, 1.4, 1.1547005383792515)"
      ]
     },
     "execution_count": 31,
     "metadata": {},
     "output_type": "execute_result"
    }
   ],
   "source": [
    "u.mean(), u.ppf(0.1), u.std()"
   ]
  },
  {
   "cell_type": "markdown",
   "metadata": {},
   "source": [
    "## The normal distribution\n",
    "\n",
    "Arguably the most frequently encountered distribution is the normal distribution - in part this is due to the central limit theorem. This is defined through\n",
    "\n",
    "$$p(x|\\mu, \\sigma) = \\frac{1}{\\sigma \\sqrt{2\\pi}} e^{-(x-\\mu)^2/2\\sigma^2}$$\n",
    "\n",
    "where $\\mu$ is the mean and $\\sigma$ is the standard deviation (\"width\") of the distribution - this is often written as $N(\\mu, \\sigma^2)$ because the variance, $\\sigma^2$, often is more convenient for calculations\n",
    "\n",
    "The normal distribution is called <tt>norm</tt> in <tt>scipy.stats</tt>, and to create a Gaussian distribution with $\\mu=3.5$ and $\\sigma=1.8$ we can do:"
   ]
  },
  {
   "cell_type": "code",
   "execution_count": 32,
   "metadata": {
    "ExecuteTime": {
     "end_time": "2019-03-11T12:37:48.892859Z",
     "start_time": "2019-03-11T12:37:48.889529Z"
    }
   },
   "outputs": [],
   "source": [
    "n = ss.norm(3.5, 1.8)"
   ]
  },
  {
   "cell_type": "code",
   "execution_count": 33,
   "metadata": {
    "ExecuteTime": {
     "end_time": "2019-03-11T12:37:49.155395Z",
     "start_time": "2019-03-11T12:37:48.894856Z"
    }
   },
   "outputs": [
    {
     "data": {
      "image/png": "[encoded data removed]",
      "text/plain": [
       "<Figure size 432x288 with 2 Axes>"
      ]
     },
     "metadata": {
      "needs_background": "light"
     },
     "output_type": "display_data"
    }
   ],
   "source": [
    "plot_distribution(n, 3.5-5, 3.5+5)"
   ]
  },
  {
   "cell_type": "markdown",
   "metadata": {},
   "source": [
    "Let us now assume that we now take 1000 observations of the same (non-variable) star. The true value is going to be 5 and the noise is taken to to be 1.0 so that we have a S/N of 5, I will then transform these fluxes to magnitudes and compare the distributions."
   ]
  },
  {
   "cell_type": "code",
   "execution_count": 34,
   "metadata": {
    "ExecuteTime": {
     "end_time": "2019-03-11T12:37:49.161523Z",
     "start_time": "2019-03-11T12:37:49.157165Z"
    }
   },
   "outputs": [],
   "source": [
    "n = ss.norm(5.0, 1.0)\n",
    "fluxes = n.rvs(1000)\n",
    "magnitudes = -2.5*np.log10(fluxes)"
   ]
  },
  {
   "cell_type": "code",
   "execution_count": 35,
   "metadata": {
    "ExecuteTime": {
     "end_time": "2019-03-11T12:37:49.526743Z",
     "start_time": "2019-03-11T12:37:49.163362Z"
    }
   },
   "outputs": [
    {
     "data": {
      "text/plain": [
       "Text(0, 0.5, 'p(m)')"
      ]
     },
     "execution_count": 35,
     "metadata": {},
     "output_type": "execute_result"
    },
    {
     "data": {
      "image/png": "[encoded data removed]",
      "text/plain": [
       "<Figure size 432x288 with 2 Axes>"
      ]
     },
     "metadata": {
      "needs_background": "light"
     },
     "output_type": "display_data"
    }
   ],
   "source": [
    "f, ax = plt.subplots(1, 2)\n",
    "\n",
    "h1 = ax[0].hist(fluxes, bins=25, color='#aaaaaa')\n",
    "ax[0].set_xlabel('Flux')\n",
    "ax[0].set_ylabel('p(Flux)')\n",
    "h2 = ax[1].hist(magnitudes, bins=25, color='#aaaaaa')\n",
    "ax[1].set_xlabel('m = -2.5 log10(Flux)')\n",
    "ax[1].set_ylabel('p(m)')"
   ]
  },
  {
   "cell_type": "markdown",
   "metadata": {},
   "source": [
    "<b>Try</b>: Modify the code above to overplot the theoretically expected distributions on each panel in red."
   ]
  },
  {
   "cell_type": "markdown",
   "metadata": {},
   "source": [
    "## The Poisson distribution\n",
    "\n",
    "The expected number of photons in a given period of time is distributed as a Poisson distribution and quite a few other quantities in astronomy. Thus it is a very useful distribution to know as well. It is defined mathematically as \n",
    "\n",
    " $$p(k|\\lambda) = \\frac{\\lambda^k e^{-\\lambda}}{k!} $$\n",
    " \n",
    " and the Python function requires one parameter - the mean, $\\lambda$. The mode of the distribution is then given by $\\lambda-1$ and the standard deviation as $\\sqrt{\\lambda}$ - and other statistical quantities can also be derived from $\\lambda$."
   ]
  },
  {
   "cell_type": "code",
   "execution_count": 36,
   "metadata": {
    "ExecuteTime": {
     "end_time": "2019-03-11T12:37:49.531610Z",
     "start_time": "2019-03-11T12:37:49.528403Z"
    }
   },
   "outputs": [],
   "source": [
    "p = ss.poisson(4)"
   ]
  },
  {
   "cell_type": "code",
   "execution_count": 37,
   "metadata": {
    "ExecuteTime": {
     "end_time": "2019-03-11T12:37:49.813480Z",
     "start_time": "2019-03-11T12:37:49.535774Z"
    }
   },
   "outputs": [
    {
     "data": {
      "image/png": "[encoded data removed]",
      "text/plain": [
       "<Figure size 432x288 with 2 Axes>"
      ]
     },
     "metadata": {
      "needs_background": "light"
     },
     "output_type": "display_data"
    }
   ],
   "source": [
    "plot_distribution(p, 0, 20)"
   ]
  },
  {
   "cell_type": "code",
   "execution_count": 38,
   "metadata": {
    "ExecuteTime": {
     "end_time": "2019-03-11T12:37:49.948978Z",
     "start_time": "2019-03-11T12:37:49.817200Z"
    }
   },
   "outputs": [
    {
     "name": "stdout",
     "output_type": "stream",
     "text": [
      "Sample mean=3.920\n"
     ]
    },
    {
     "data": {
      "image/png": "[encoded data removed]",
      "text/plain": [
       "<Figure size 432x288 with 1 Axes>"
      ]
     },
     "metadata": {
      "needs_background": "light"
     },
     "output_type": "display_data"
    }
   ],
   "source": [
    "r_x = p.rvs(100)\n",
    "plt.plot(r_x, 'o')\n",
    "print(\"Sample mean={0:.3f}\".format(np.mean(r_x)))"
   ]
  },
  {
   "cell_type": "markdown",
   "metadata": {},
   "source": [
    "## The Exponential & Laplace distribution\n",
    "\n",
    "This distribution is defined through \n",
    "\n",
    "$$p(x|\\mu, \\sigma) = \\frac{1}{2\\sigma} e^{-|x-\\mu|/\\sigma} $$\n",
    "\n",
    "This distribution when defined for all $x$ is often referred to as the Laplace distribution. If the distribution is confined to $x-\\mu>0$, it is often called the exponential distribution.  In <tt>scipy.stats</tt> the Laplace distribution is implemented in the <tt>laplace</tt> function  and the exponential in the <tt>expon</tt> function. "
   ]
  },
  {
   "cell_type": "code",
   "execution_count": 39,
   "metadata": {
    "ExecuteTime": {
     "end_time": "2019-03-11T12:37:49.954344Z",
     "start_time": "2019-03-11T12:37:49.950740Z"
    }
   },
   "outputs": [],
   "source": [
    "e = ss.expon(3.5, 2.0)\n",
    "l = ss.laplace(3.5, 2.0)"
   ]
  },
  {
   "cell_type": "code",
   "execution_count": 40,
   "metadata": {
    "ExecuteTime": {
     "end_time": "2019-03-11T12:37:49.958905Z",
     "start_time": "2019-03-11T12:37:49.956220Z"
    }
   },
   "outputs": [],
   "source": [
    "x = np.linspace(-3, 10, num=100)"
   ]
  },
  {
   "cell_type": "code",
   "execution_count": null,
   "metadata": {},
   "outputs": [],
   "source": []
  }
 ],
 "metadata": {
  "kernelspec": {
   "display_name": "Python 3",
   "language": "python",
   "name": "python3"
  },
  "language_info": {
   "codemirror_mode": {
    "name": "ipython",
    "version": 3
   },
   "file_extension": ".py",
   "mimetype": "text/x-python",
   "name": "python",
   "nbconvert_exporter": "python",
   "pygments_lexer": "ipython3",
   "version": "3.7.7"
  },
  "varInspector": {
   "cols": {
    "lenName": 16,
    "lenType": 16,
    "lenVar": 40
   },
   "kernels_config": {
    "python": {
     "delete_cmd_postfix": "",
     "delete_cmd_prefix": "del ",
     "library": "var_list.py",
     "varRefreshCmd": "print(var_dic_list())"
    },
    "r": {
     "delete_cmd_postfix": ") ",
     "delete_cmd_prefix": "rm(",
     "library": "var_list.r",
     "varRefreshCmd": "cat(var_dic_list()) "
    }
   },
   "types_to_exclude": [
    "module",
    "function",
    "builtin_function_or_method",
    "instance",
    "_Feature"
   ],
   "window_display": false
  }
 },
 "nbformat": 4,
 "nbformat_minor": 1
}
