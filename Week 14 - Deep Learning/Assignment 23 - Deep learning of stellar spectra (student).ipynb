{
 "cells": [
  {
   "cell_type": "markdown",
   "metadata": {},
   "source": [
    "# Deep Learning\n",
    "\n",
    "## Authors\n",
    "J. Brinchman, B.W. Holwerda\n",
    "\n",
    "## Learning Goals\n",
    "* Deep Learning\n",
    "* follow-up on PCA analysis\n",
    "* How well do prediction and truth line up with prediction\n",
    "* \n",
    "\n",
    "## Keywords\n",
    "Tensorflow, Keras, Deep Learning\n",
    "\n",
    "## Companion Content\n",
    "\n",
    "\n",
    "## Summary\n",
    "This is a deep learning exercise on the same spectra as the PCA assignment. Deep Learning typically uses a lot of computing (often done on GPUs). This is meant to be low-cost computational wise.\n",
    "\n",
    "<hr>"
   ]
  },
  {
   "cell_type": "markdown",
   "metadata": {},
   "source": [
    "# Deep learning on Pickles\n",
    "\n",
    "In this notebook we will use a deep learning approach to do stellar classification on the basis of spectra. For this we will use the Pickles library. Note that this is really too small to do a proper deep learning model but it should be sufficient to get a first start.\n",
    "\n",
    "The library we will use is *TensorFlow* with the *keras* interface in Python. \n",
    "\n",
    "If the import below does not work, make sure to install these two."
   ]
  },
  {
   "cell_type": "code",
   "execution_count": 1,
   "metadata": {},
   "outputs": [],
   "source": [
    "import numpy as np\n",
    "import matplotlib.pyplot as plt\n",
    "\n",
    "from keras.models import Sequential\n",
    "from keras.layers import Dense\n",
    "\n",
    "%matplotlib inline"
   ]
  },
  {
   "cell_type": "markdown",
   "metadata": {},
   "source": [
    "## Get the spectrum library\n",
    "\n",
    "This will not work until you have installed matplotlib, pandas and astropy.\n",
    "\n",
    "You will also need the PCA_pickles_driver.py file in the directory of this assignment."
   ]
  },
  {
   "cell_type": "code",
   "execution_count": 2,
   "metadata": {},
   "outputs": [
    {
     "data": {
      "text/plain": [
       "<module 'PCA_pickles_driver' from '/Users/holwerda/Dropbox/PHYS650/2021S/Assignments/Week 14 - Deep Learning/PCA_pickles_driver.py'>"
      ]
     },
     "execution_count": 2,
     "metadata": {},
     "output_type": "execute_result"
    }
   ],
   "source": [
    "import PCA_pickles_driver as pp\n",
    "from importlib import reload\n",
    "reload(pp)"
   ]
  },
  {
   "cell_type": "code",
   "execution_count": 3,
   "metadata": {},
   "outputs": [],
   "source": [
    "wave, flux, dflux = pp.load_pickles_library()\n",
    "t_overview = pp.load_overview_table()"
   ]
  },
  {
   "cell_type": "markdown",
   "metadata": {},
   "source": [
    "We also want to limit our attention to the optical wavelength region"
   ]
  },
  {
   "cell_type": "code",
   "execution_count": 4,
   "metadata": {},
   "outputs": [],
   "source": [
    "i_use, = np.where((wave>3000) & (wave < 10000))\n",
    "\n",
    "flux_use = flux[i_use, :]\n",
    "dflux_use = dflux[i_use, :]\n",
    "wave_use = wave[i_use]\n",
    "\n",
    "X = flux_use.T"
   ]
  },
  {
   "cell_type": "markdown",
   "metadata": {},
   "source": [
    "## Dividing into test and training samples\n",
    "\n",
    "This is a crucial step and it is important to do this right. Thus I use a `StratifiedShuffleSplit` which allows us to create a training sample that has the same relative number of examples in each class (here in each spectral class).\n",
    "\n",
    "This does perhaps lead to overfitting at O & B where we have few examples."
   ]
  },
  {
   "cell_type": "code",
   "execution_count": 5,
   "metadata": {},
   "outputs": [],
   "source": [
    "from sklearn.model_selection import StratifiedShuffleSplit"
   ]
  },
  {
   "cell_type": "code",
   "execution_count": 6,
   "metadata": {},
   "outputs": [
    {
     "data": {
      "text/plain": [
       "5"
      ]
     },
     "execution_count": 6,
     "metadata": {},
     "output_type": "execute_result"
    }
   ],
   "source": [
    "label = np.round(t_overview['numtype'])\n",
    "sss = StratifiedShuffleSplit(n_splits=5, test_size=0.1, random_state=0)\n",
    "sss.get_n_splits(X, label )\n",
    "\n",
    "#for train_index, test_index in sss.split(X, label):\n",
    "#    print(\"TRAIN:\", train_index, \"TEST:\", test_index)\n",
    "#    X_train, X_test = X[train_index], X[test_index]\n",
    "#    y_train, y_test = label[train_index], label[test_index]"
   ]
  },
  {
   "cell_type": "code",
   "execution_count": 7,
   "metadata": {},
   "outputs": [],
   "source": [
    "# Get one training set\n",
    "tmp = sss.split(X, label)"
   ]
  },
  {
   "cell_type": "markdown",
   "metadata": {},
   "source": [
    "The split using `StratifiedShuffleSplit` is a bit more complicated than other splitting functions. It returns an iterator and you need to first split (as above) and then you have to call `send` on the returned result."
   ]
  },
  {
   "cell_type": "code",
   "execution_count": 8,
   "metadata": {},
   "outputs": [],
   "source": [
    "i_train, i_test = tmp.send(None)"
   ]
  },
  {
   "cell_type": "code",
   "execution_count": 9,
   "metadata": {},
   "outputs": [
    {
     "data": {
      "text/plain": [
       "(117, 14)"
      ]
     },
     "execution_count": 9,
     "metadata": {},
     "output_type": "execute_result"
    }
   ],
   "source": [
    "len(i_train), len(i_test)"
   ]
  },
  {
   "cell_type": "code",
   "execution_count": 10,
   "metadata": {},
   "outputs": [
    {
     "data": {
      "text/plain": [
       "(131, 1399)"
      ]
     },
     "execution_count": 10,
     "metadata": {},
     "output_type": "execute_result"
    }
   ],
   "source": [
    "n_X, n_data = X.shape\n",
    "n_train = len(i_train)\n",
    "n_test = len(i_test)\n",
    "n_X, n_data"
   ]
  },
  {
   "cell_type": "markdown",
   "metadata": {},
   "source": [
    "## Set up the keras model\n",
    "\n",
    "I will use a sequential model in Keras - this allows you to add the layers you want. So let us first do a single hidden layer. The first layer is dense and has 32 units."
   ]
  },
  {
   "cell_type": "code",
   "execution_count": 11,
   "metadata": {},
   "outputs": [],
   "source": [
    "model = Sequential()\n",
    "model.add(Dense(n_data, input_dim=n_data, activation='relu'))\n",
    "model.add(Dense(250, activation='relu'))\n",
    "model.add(Dense(100, activation='relu'))\n",
    "model.add(Dense(1, activation='linear'))"
   ]
  },
  {
   "cell_type": "code",
   "execution_count": 12,
   "metadata": {},
   "outputs": [],
   "source": [
    "model.compile(optimizer='Adam',\n",
    "              loss='mse')\n",
    "#,\n",
    "#              metrics=['accuracy'])"
   ]
  },
  {
   "cell_type": "code",
   "execution_count": 13,
   "metadata": {},
   "outputs": [
    {
     "data": {
      "text/plain": [
       "<TableColumns names=('SPType','Lumclass','Metal','numtype','metflag','numlclass','file')>"
      ]
     },
     "execution_count": 13,
     "metadata": {},
     "output_type": "execute_result"
    }
   ],
   "source": [
    "t_overview.columns"
   ]
  },
  {
   "cell_type": "code",
   "execution_count": 15,
   "metadata": {},
   "outputs": [],
   "source": [
    "train_X = X[i_train, :]\n",
    "train_y = label[i_train]\n",
    "test_X = X[i_test, :]\n",
    "test_y = label[i_test]\n",
    "\n",
    "history = model.fit(train_X, train_y, validation_data=(test_X, test_y), epochs=150, verbose=0)"
   ]
  },
  {
   "cell_type": "code",
   "execution_count": 16,
   "metadata": {
    "scrolled": true
   },
   "outputs": [
    {
     "name": "stdout",
     "output_type": "stream",
     "text": [
      "Train= 0.08867886662483215.  Test= 1.6944500207901\n"
     ]
    }
   ],
   "source": [
    "train_mse = model.evaluate(train_X, train_y, verbose=0)\n",
    "test_mse = model.evaluate(test_X, test_y, verbose=0)\n",
    "print(\"Train= {0}.  Test= {1}\".format(train_mse, test_mse))"
   ]
  },
  {
   "cell_type": "markdown",
   "metadata": {},
   "source": [
    "### Exercise 1\n",
    "\n",
    "The history.history has the training and the validation history of the deep learning. \n",
    "\n",
    "1. Explore the structure of history.history['loss'] and history.history['val_loss'] \n",
    "2. plot both as a function of epoch (see cells above)\n",
    "3. Can you tell how fast the algorithm is learning? At what epoch does it appear to be mostly done?"
   ]
  },
  {
   "cell_type": "code",
   "execution_count": 20,
   "metadata": {},
   "outputs": [],
   "source": [
    "# student work here\n"
   ]
  },
  {
   "cell_type": "code",
   "execution_count": 21,
   "metadata": {},
   "outputs": [],
   "source": [
    "# student work here\n"
   ]
  },
  {
   "cell_type": "markdown",
   "metadata": {},
   "source": [
    "### Exercise 2\n",
    "\n",
    "Zoom in on the y-axes. Does that change your perspective when the algorithm has stopped learning?"
   ]
  },
  {
   "cell_type": "code",
   "execution_count": 22,
   "metadata": {},
   "outputs": [],
   "source": [
    "# student work here\n"
   ]
  },
  {
   "cell_type": "markdown",
   "metadata": {},
   "source": [
    "###  Exercise 4 - Comparing predicted to observed class\n",
    "\n",
    "You get the predicted class from `model.predict` given the $X$ input data.\n",
    "Compare the true values of the test spectral classes (their label i.e. test_y) \n",
    "to the value predicted by the algorithm. How do they compare?"
   ]
  },
  {
   "cell_type": "code",
   "execution_count": 139,
   "metadata": {},
   "outputs": [
    {
     "data": {
      "text/plain": [
       "(14,)"
      ]
     },
     "execution_count": 139,
     "metadata": {},
     "output_type": "execute_result"
    }
   ],
   "source": [
    "# the predicted class for the test spectra:\n",
    "y_pred = model.predict(test_X)[:,0]\n",
    "np.shape(y_pred)"
   ]
  },
  {
   "cell_type": "code",
   "execution_count": 23,
   "metadata": {},
   "outputs": [],
   "source": [
    "# student work\n"
   ]
  },
  {
   "cell_type": "markdown",
   "metadata": {},
   "source": [
    "### Exercise 5\n",
    "\n",
    "It is usually more useful to look at the residual plot. Generate the residual in classification. Where does the classification go wrong?"
   ]
  },
  {
   "cell_type": "code",
   "execution_count": 24,
   "metadata": {},
   "outputs": [],
   "source": [
    "# student work here\n"
   ]
  },
  {
   "cell_type": "markdown",
   "metadata": {},
   "source": [
    "### Exercise 6\n",
    "\n",
    "What could be the cause for where misclassifications occur? "
   ]
  },
  {
   "cell_type": "markdown",
   "metadata": {},
   "source": [
    "*student answer here*"
   ]
  },
  {
   "cell_type": "markdown",
   "metadata": {},
   "source": [
    "### Exercise 7\n",
    "\n",
    "Let's see how much the initial inputs make a difference. If you change the size of the training and test sample to 50/50, what happens?\n",
    "What happens if the test sample is one 1/10th of the starting sample of spectra? \n"
   ]
  },
  {
   "cell_type": "markdown",
   "metadata": {},
   "source": [
    "*student answer here*"
   ]
  },
  {
   "cell_type": "code",
   "execution_count": null,
   "metadata": {},
   "outputs": [],
   "source": []
  }
 ],
 "metadata": {
  "kernelspec": {
   "display_name": "Python 3",
   "language": "python",
   "name": "python3"
  },
  "language_info": {
   "codemirror_mode": {
    "name": "ipython",
    "version": 3
   },
   "file_extension": ".py",
   "mimetype": "text/x-python",
   "name": "python",
   "nbconvert_exporter": "python",
   "pygments_lexer": "ipython3",
   "version": "3.7.7"
  },
  "varInspector": {
   "cols": {
    "lenName": 16,
    "lenType": 16,
    "lenVar": 40
   },
   "kernels_config": {
    "python": {
     "delete_cmd_postfix": "",
     "delete_cmd_prefix": "del ",
     "library": "var_list.py",
     "varRefreshCmd": "print(var_dic_list())"
    },
    "r": {
     "delete_cmd_postfix": ") ",
     "delete_cmd_prefix": "rm(",
     "library": "var_list.r",
     "varRefreshCmd": "cat(var_dic_list()) "
    }
   },
   "types_to_exclude": [
    "module",
    "function",
    "builtin_function_or_method",
    "instance",
    "_Feature"
   ],
   "window_display": false
  }
 },
 "nbformat": 4,
 "nbformat_minor": 2
}
